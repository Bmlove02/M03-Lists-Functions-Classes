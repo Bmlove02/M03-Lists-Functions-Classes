{
 "cells": [
  {
   "cell_type": "code",
   "execution_count": null,
   "id": "e5a177b6",
   "metadata": {},
   "outputs": [],
   "source": []
  },
  {
   "cell_type": "code",
   "execution_count": 24,
   "id": "45056601",
   "metadata": {},
   "outputs": [
    {
     "name": "stdout",
     "output_type": "stream",
     "text": [
      "What type of Vechicle do you have? (Car, SUV, Truck, Van)Truck\n",
      "What Year is your Vehicle?2023\n",
      "What is your make?Ford\n",
      "What is your model?F-150\n",
      "How many doors are there?4\n",
      "What kind of roof is there? (solid or sun roof)solid\n",
      "\n",
      "Vehicle type: Truck \n",
      "Year: 2023 \n",
      "Make: Ford \n",
      "Model F-150 \n",
      "Number of doors: 4 \n",
      "Type of roof: solid\n"
     ]
    }
   ],
   "source": [
    "class Vehicle:\n",
    "    def __init__(self, Vtype):\n",
    "        self.Vtype = Vtype\n",
    "    \n",
    "class Automobile(Vehicle):\n",
    "    def __init__(self, Vtype, year, make, model, doors, roof):\n",
    "        super().__init__(Vtype)\n",
    "        self.year = year\n",
    "        self.make = make\n",
    "        self.model = model\n",
    "        self.doors = doors\n",
    "        self.roof = roof\n",
    "\n",
    "V_type = (input('What type of Vechicle do you have? (Car, SUV, Truck, Van)'))\n",
    "V_year = (input('What Year is your Vehicle?'))\n",
    "V_make = (input('What is your make?'))\n",
    "V_model = (input('What is your model?'))\n",
    "V_doors = (input(\"How many doors are there?\"))\n",
    "V_roof = (input(\"What kind of roof is there? (solid or sun roof)\"))\n",
    "\n",
    "V = Automobile(V_type, V_year, V_make, V_model, V_doors, V_roof)\n",
    "\n",
    "print('\\nVehicle type:', V.Vtype,\n",
    "     '\\nYear:', V.year,\n",
    "     '\\nMake:', V.make,\n",
    "     '\\nModel', V.model,\n",
    "     '\\nNumber of doors:', V.doors,\n",
    "     '\\nType of roof:', V.roof)"
   ]
  },
  {
   "cell_type": "code",
   "execution_count": null,
   "id": "2dee8ac4",
   "metadata": {},
   "outputs": [],
   "source": []
  },
  {
   "cell_type": "code",
   "execution_count": null,
   "id": "fabadcad",
   "metadata": {},
   "outputs": [],
   "source": []
  }
 ],
 "metadata": {
  "kernelspec": {
   "display_name": "Python 3 (ipykernel)",
   "language": "python",
   "name": "python3"
  },
  "language_info": {
   "codemirror_mode": {
    "name": "ipython",
    "version": 3
   },
   "file_extension": ".py",
   "mimetype": "text/x-python",
   "name": "python",
   "nbconvert_exporter": "python",
   "pygments_lexer": "ipython3",
   "version": "3.9.13"
  }
 },
 "nbformat": 4,
 "nbformat_minor": 5
}
